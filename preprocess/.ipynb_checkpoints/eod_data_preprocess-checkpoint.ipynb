{
 "cells": [
  {
   "cell_type": "code",
   "execution_count": 25,
   "id": "590323bf",
   "metadata": {
    "ExecuteTime": {
     "end_time": "2022-12-05T03:16:03.641208Z",
     "start_time": "2022-12-05T03:16:03.637274Z"
    }
   },
   "outputs": [],
   "source": [
    "import argparse\n",
    "from datetime import datetime\n",
    "import json\n",
    "import numpy as np\n",
    "import operator\n",
    "import os\n",
    "import pandas as pd\n",
    "from tqdm import tqdm"
   ]
  },
  {
   "cell_type": "code",
   "execution_count": 50,
   "id": "ec75fd15",
   "metadata": {
    "ExecuteTime": {
     "end_time": "2022-12-05T06:12:47.486383Z",
     "start_time": "2022-12-05T06:12:47.478529Z"
    }
   },
   "outputs": [],
   "source": [
    "data_path_eod = 'D:\\\\data\\\\qt\\\\data\\\\google_finance\\\\'\n",
    "data_path_rr = 'D:\\\\data\\\\qt\\\\data\\\\rr8_volumn\\\\'\n",
    "data_path_attn = 'D:\\\\data\\\\qt\\\\data\\\\attention_data\\\\'\n",
    "hpg = np.load('hg_test.npy')\n",
    "market = 'NASDAQ_'\n",
    "date_format = '%Y-%m-%d %H:%M:%S'\n",
    "tickers = r'D:\\data\\qt\\data\\NASDAQ_tickers_qualify_dr-0.98_min-5_smooth.csv'\n",
    "tickers = np.genfromtxt(tickers, dtype=str, delimiter='\\t', skip_header=False)\n",
    "begin_time = datetime.strptime('2012-11-19 00:00:00', date_format)\n",
    "col = ['rr', 'rr5', 'rr10', 'rr20', 'rr30', 'volumn', 'rr-1', 'rr-5', 'rr-30']"
   ]
  },
  {
   "cell_type": "code",
   "execution_count": 64,
   "id": "df5afe13",
   "metadata": {
    "ExecuteTime": {
     "end_time": "2022-12-05T06:21:45.092217Z",
     "start_time": "2022-12-05T06:18:58.470673Z"
    },
    "scrolled": true
   },
   "outputs": [
    {
     "name": "stderr",
     "output_type": "stream",
     "text": [
      "  0%|                                                                                         | 0/1244 [00:00<?, ?it/s]C:\\Users\\kikyo\\AppData\\Local\\Temp\\ipykernel_11832\\255674408.py:11: RuntimeWarning: invalid value encountered in divide\n",
      "  hyper_attn = np.array(weight_list) / sum(weight_list)\n",
      "C:\\Users\\kikyo\\AppData\\Local\\Temp\\ipykernel_11832\\255674408.py:11: RuntimeWarning: invalid value encountered in divide\n",
      "  hyper_attn = np.array(weight_list) / sum(weight_list)\n",
      "C:\\Users\\kikyo\\AppData\\Local\\Temp\\ipykernel_11832\\255674408.py:11: RuntimeWarning: invalid value encountered in divide\n",
      "  hyper_attn = np.array(weight_list) / sum(weight_list)\n",
      "C:\\Users\\kikyo\\AppData\\Local\\Temp\\ipykernel_11832\\255674408.py:11: RuntimeWarning: invalid value encountered in divide\n",
      "  hyper_attn = np.array(weight_list) / sum(weight_list)\n",
      "C:\\Users\\kikyo\\AppData\\Local\\Temp\\ipykernel_11832\\255674408.py:11: RuntimeWarning: invalid value encountered in divide\n",
      "  hyper_attn = np.array(weight_list) / sum(weight_list)\n",
      "C:\\Users\\kikyo\\AppData\\Local\\Temp\\ipykernel_11832\\255674408.py:11: RuntimeWarning: invalid value encountered in divide\n",
      "  hyper_attn = np.array(weight_list) / sum(weight_list)\n",
      "C:\\Users\\kikyo\\AppData\\Local\\Temp\\ipykernel_11832\\255674408.py:11: RuntimeWarning: invalid value encountered in divide\n",
      "  hyper_attn = np.array(weight_list) / sum(weight_list)\n",
      "C:\\Users\\kikyo\\AppData\\Local\\Temp\\ipykernel_11832\\255674408.py:11: RuntimeWarning: invalid value encountered in divide\n",
      "  hyper_attn = np.array(weight_list) / sum(weight_list)\n",
      "  0%|                                                                             | 1/1244 [02:46<57:26:32, 166.37s/it]\n"
     ]
    },
    {
     "ename": "KeyboardInterrupt",
     "evalue": "",
     "output_type": "error",
     "traceback": [
      "\u001B[1;31m---------------------------------------------------------------------------\u001B[0m",
      "\u001B[1;31mKeyboardInterrupt\u001B[0m                         Traceback (most recent call last)",
      "Input \u001B[1;32mIn [64]\u001B[0m, in \u001B[0;36m<cell line: 2>\u001B[1;34m()\u001B[0m\n\u001B[0;32m      6\u001B[0m weight_list \u001B[38;5;241m=\u001B[39m []\n\u001B[0;32m      7\u001B[0m \u001B[38;5;28;01mfor\u001B[39;00m ticker \u001B[38;5;129;01min\u001B[39;00m tickers_rel:\n\u001B[1;32m----> 8\u001B[0m     data_weight_path \u001B[38;5;241m=\u001B[39m \u001B[43mpd\u001B[49m\u001B[38;5;241;43m.\u001B[39;49m\u001B[43mread_csv\u001B[49m\u001B[43m(\u001B[49m\u001B[43mdata_path_attn\u001B[49m\u001B[43m \u001B[49m\u001B[38;5;241;43m+\u001B[39;49m\u001B[43m \u001B[49m\u001B[43mmarket\u001B[49m\u001B[43m \u001B[49m\u001B[38;5;241;43m+\u001B[39;49m\u001B[43m \u001B[49m\u001B[43mticker\u001B[49m\u001B[43m \u001B[49m\u001B[38;5;241;43m+\u001B[39;49m\u001B[43m \u001B[49m\u001B[38;5;124;43m'\u001B[39;49m\u001B[38;5;124;43m.csv\u001B[39;49m\u001B[38;5;124;43m'\u001B[39;49m\u001B[43m,\u001B[49m\u001B[43m \u001B[49m\u001B[43mindex_col\u001B[49m\u001B[38;5;241;43m=\u001B[39;49m\u001B[38;5;241;43m0\u001B[39;49m\u001B[43m)\u001B[49m\n\u001B[0;32m      9\u001B[0m     amount \u001B[38;5;241m=\u001B[39m data_weight_path[\u001B[38;5;124m'\u001B[39m\u001B[38;5;124mhyper_weight\u001B[39m\u001B[38;5;124m'\u001B[39m][row]\n\u001B[0;32m     10\u001B[0m     weight_list\u001B[38;5;241m.\u001B[39mappend(amount) \u001B[38;5;28;01mif\u001B[39;00m amount \u001B[38;5;241m>\u001B[39m \u001B[38;5;241m-\u001B[39m\u001B[38;5;241m1000\u001B[39m \u001B[38;5;28;01melse\u001B[39;00m weight_list\u001B[38;5;241m.\u001B[39mappend(\u001B[38;5;241m0\u001B[39m)\n",
      "File \u001B[1;32mC:\\ProgramData\\Anaconda3\\lib\\site-packages\\pandas\\util\\_decorators.py:311\u001B[0m, in \u001B[0;36mdeprecate_nonkeyword_arguments.<locals>.decorate.<locals>.wrapper\u001B[1;34m(*args, **kwargs)\u001B[0m\n\u001B[0;32m    305\u001B[0m \u001B[38;5;28;01mif\u001B[39;00m \u001B[38;5;28mlen\u001B[39m(args) \u001B[38;5;241m>\u001B[39m num_allow_args:\n\u001B[0;32m    306\u001B[0m     warnings\u001B[38;5;241m.\u001B[39mwarn(\n\u001B[0;32m    307\u001B[0m         msg\u001B[38;5;241m.\u001B[39mformat(arguments\u001B[38;5;241m=\u001B[39marguments),\n\u001B[0;32m    308\u001B[0m         \u001B[38;5;167;01mFutureWarning\u001B[39;00m,\n\u001B[0;32m    309\u001B[0m         stacklevel\u001B[38;5;241m=\u001B[39mstacklevel,\n\u001B[0;32m    310\u001B[0m     )\n\u001B[1;32m--> 311\u001B[0m \u001B[38;5;28;01mreturn\u001B[39;00m func(\u001B[38;5;241m*\u001B[39margs, \u001B[38;5;241m*\u001B[39m\u001B[38;5;241m*\u001B[39mkwargs)\n",
      "File \u001B[1;32mC:\\ProgramData\\Anaconda3\\lib\\site-packages\\pandas\\io\\parsers\\readers.py:680\u001B[0m, in \u001B[0;36mread_csv\u001B[1;34m(filepath_or_buffer, sep, delimiter, header, names, index_col, usecols, squeeze, prefix, mangle_dupe_cols, dtype, engine, converters, true_values, false_values, skipinitialspace, skiprows, skipfooter, nrows, na_values, keep_default_na, na_filter, verbose, skip_blank_lines, parse_dates, infer_datetime_format, keep_date_col, date_parser, dayfirst, cache_dates, iterator, chunksize, compression, thousands, decimal, lineterminator, quotechar, quoting, doublequote, escapechar, comment, encoding, encoding_errors, dialect, error_bad_lines, warn_bad_lines, on_bad_lines, delim_whitespace, low_memory, memory_map, float_precision, storage_options)\u001B[0m\n\u001B[0;32m    665\u001B[0m kwds_defaults \u001B[38;5;241m=\u001B[39m _refine_defaults_read(\n\u001B[0;32m    666\u001B[0m     dialect,\n\u001B[0;32m    667\u001B[0m     delimiter,\n\u001B[1;32m   (...)\u001B[0m\n\u001B[0;32m    676\u001B[0m     defaults\u001B[38;5;241m=\u001B[39m{\u001B[38;5;124m\"\u001B[39m\u001B[38;5;124mdelimiter\u001B[39m\u001B[38;5;124m\"\u001B[39m: \u001B[38;5;124m\"\u001B[39m\u001B[38;5;124m,\u001B[39m\u001B[38;5;124m\"\u001B[39m},\n\u001B[0;32m    677\u001B[0m )\n\u001B[0;32m    678\u001B[0m kwds\u001B[38;5;241m.\u001B[39mupdate(kwds_defaults)\n\u001B[1;32m--> 680\u001B[0m \u001B[38;5;28;01mreturn\u001B[39;00m \u001B[43m_read\u001B[49m\u001B[43m(\u001B[49m\u001B[43mfilepath_or_buffer\u001B[49m\u001B[43m,\u001B[49m\u001B[43m \u001B[49m\u001B[43mkwds\u001B[49m\u001B[43m)\u001B[49m\n",
      "File \u001B[1;32mC:\\ProgramData\\Anaconda3\\lib\\site-packages\\pandas\\io\\parsers\\readers.py:581\u001B[0m, in \u001B[0;36m_read\u001B[1;34m(filepath_or_buffer, kwds)\u001B[0m\n\u001B[0;32m    578\u001B[0m     \u001B[38;5;28;01mreturn\u001B[39;00m parser\n\u001B[0;32m    580\u001B[0m \u001B[38;5;28;01mwith\u001B[39;00m parser:\n\u001B[1;32m--> 581\u001B[0m     \u001B[38;5;28;01mreturn\u001B[39;00m parser\u001B[38;5;241m.\u001B[39mread(nrows)\n",
      "File \u001B[1;32mC:\\ProgramData\\Anaconda3\\lib\\site-packages\\pandas\\io\\parsers\\readers.py:1290\u001B[0m, in \u001B[0;36mTextFileReader.__exit__\u001B[1;34m(self, exc_type, exc_value, traceback)\u001B[0m\n\u001B[0;32m   1289\u001B[0m \u001B[38;5;28;01mdef\u001B[39;00m \u001B[38;5;21m__exit__\u001B[39m(\u001B[38;5;28mself\u001B[39m, exc_type, exc_value, traceback):\n\u001B[1;32m-> 1290\u001B[0m     \u001B[38;5;28;43mself\u001B[39;49m\u001B[38;5;241;43m.\u001B[39;49m\u001B[43mclose\u001B[49m\u001B[43m(\u001B[49m\u001B[43m)\u001B[49m\n",
      "File \u001B[1;32mC:\\ProgramData\\Anaconda3\\lib\\site-packages\\pandas\\io\\parsers\\readers.py:937\u001B[0m, in \u001B[0;36mTextFileReader.close\u001B[1;34m(self)\u001B[0m\n\u001B[0;32m    935\u001B[0m \u001B[38;5;28;01mdef\u001B[39;00m \u001B[38;5;21mclose\u001B[39m(\u001B[38;5;28mself\u001B[39m):\n\u001B[0;32m    936\u001B[0m     \u001B[38;5;28;01mif\u001B[39;00m \u001B[38;5;28mself\u001B[39m\u001B[38;5;241m.\u001B[39mhandles \u001B[38;5;129;01mis\u001B[39;00m \u001B[38;5;129;01mnot\u001B[39;00m \u001B[38;5;28;01mNone\u001B[39;00m:\n\u001B[1;32m--> 937\u001B[0m         \u001B[38;5;28;43mself\u001B[39;49m\u001B[38;5;241;43m.\u001B[39;49m\u001B[43mhandles\u001B[49m\u001B[38;5;241;43m.\u001B[39;49m\u001B[43mclose\u001B[49m\u001B[43m(\u001B[49m\u001B[43m)\u001B[49m\n\u001B[0;32m    938\u001B[0m     \u001B[38;5;28mself\u001B[39m\u001B[38;5;241m.\u001B[39m_engine\u001B[38;5;241m.\u001B[39mclose()\n",
      "File \u001B[1;32mC:\\ProgramData\\Anaconda3\\lib\\site-packages\\pandas\\io\\common.py:117\u001B[0m, in \u001B[0;36mIOHandles.close\u001B[1;34m(self)\u001B[0m\n\u001B[0;32m    115\u001B[0m \u001B[38;5;28;01mtry\u001B[39;00m:\n\u001B[0;32m    116\u001B[0m     \u001B[38;5;28;01mfor\u001B[39;00m handle \u001B[38;5;129;01min\u001B[39;00m \u001B[38;5;28mself\u001B[39m\u001B[38;5;241m.\u001B[39mcreated_handles:\n\u001B[1;32m--> 117\u001B[0m         \u001B[43mhandle\u001B[49m\u001B[38;5;241;43m.\u001B[39;49m\u001B[43mclose\u001B[49m\u001B[43m(\u001B[49m\u001B[43m)\u001B[49m\n\u001B[0;32m    118\u001B[0m \u001B[38;5;28;01mexcept\u001B[39;00m (\u001B[38;5;167;01mOSError\u001B[39;00m, \u001B[38;5;167;01mValueError\u001B[39;00m):\n\u001B[0;32m    119\u001B[0m     \u001B[38;5;28;01mpass\u001B[39;00m\n",
      "\u001B[1;31mKeyboardInterrupt\u001B[0m: "
     ]
    }
   ],
   "source": [
    "attention_weight = np.zeros((1244, hpg.shape[1]))\n",
    "for row in tqdm(range(attention_weight.shape[0])):\n",
    "    for i in range(2518):\n",
    "        hyper_index = np.where(hpg[1] == i)\n",
    "        tickers_rel = tickers[hpg[0][hyper_index]]\n",
    "        weight_list = []\n",
    "        for ticker in tickers_rel:\n",
    "            data_weight_path = pd.read_csv(data_path_attn + market + ticker + '.csv', index_col=0)\n",
    "            amount = data_weight_path['hyper_weight'][row]\n",
    "            weight_list.append(amount) if amount > -1000 else weight_list.append(0)\n",
    "        hyper_attn = np.array(weight_list) / sum(weight_list) if sum(weight_list) > 1 else np.array(weight_list)\n",
    "        attention_weight[row, hyper_index[0][0]:hyper_index[0][0] + len(hyper_index[0])] = hyper_attn\n",
    "np.save('attention_weight.npy', attention_weight)"
   ]
  },
  {
   "cell_type": "code",
   "execution_count": 69,
   "id": "bfa5c3a9",
   "metadata": {
    "ExecuteTime": {
     "end_time": "2022-12-05T07:01:15.913470Z",
     "start_time": "2022-12-05T07:01:15.909465Z"
    },
    "scrolled": true
   },
   "outputs": [
    {
     "data": {
      "text/plain": [
       "103.66666666666667"
      ]
     },
     "execution_count": 69,
     "metadata": {},
     "output_type": "execute_result"
    }
   ],
   "source": [
    "1244 / 12"
   ]
  },
  {
   "cell_type": "code",
   "execution_count": 48,
   "id": "22b25908",
   "metadata": {
    "ExecuteTime": {
     "end_time": "2022-12-05T06:12:27.681797Z",
     "start_time": "2022-12-05T04:50:14.695721Z"
    }
   },
   "outputs": [
    {
     "name": "stderr",
     "output_type": "stream",
     "text": [
      "100%|████████████████████████████████████████████████████████████████████████████| 1026/1026 [1:22:12<00:00,  4.81s/it]\n"
     ]
    }
   ],
   "source": [
    "for index, ticker in enumerate(tqdm(tickers)):\n",
    "    if index < 470:\n",
    "        continue\n",
    "    single_EOD0 = np.genfromtxt(os.path.join(data_path_eod, market + ticker + '_30Y.csv'), dtype=str, delimiter=',', skip_header=True)\n",
    "    single_data = []\n",
    "    for day in range(len(single_EOD0)):\n",
    "        day_time = datetime.strptime(single_EOD0[day][0].split(' ')[0] + ' 00:00:00', date_format)\n",
    "        if day_time >= begin_time and day + 30 < len(single_EOD0):\n",
    "            data_dict = {}\n",
    "            single_EOD = single_EOD0[:, 1:].astype(np.float64)\n",
    "            days_weight = single_EOD[day][0] * single_EOD[day][4]\n",
    "            data_dict['hyper_weight'] = days_weight if days_weight != 0 else -1234\n",
    "            single_data.append(data_dict)\n",
    "    single_data = pd.DataFrame(single_data)\n",
    "    if len(single_data) < 1244:\n",
    "        row = np.full((1244 - single_data.shape[0], 1), -1234)\n",
    "        index = range(single_data.shape[0], 1244)\n",
    "        pd_1234 = pd.DataFrame(row, index=index, columns=['hyper_weight'])\n",
    "        single_data = pd.concat([single_data, pd_1234])\n",
    "    elif len(single_data) > 1244:\n",
    "        single_data = single_data.drop(index=range(1244, single_data.shape[0]))\n",
    "    single_data.to_csv('D:\\\\data\\\\qt\\\\data\\\\attention_data\\\\'+ market + ticker + '.csv')"
   ]
  },
  {
   "cell_type": "code",
   "execution_count": null,
   "id": "172d22f5",
   "metadata": {},
   "outputs": [],
   "source": [
    "for file in file_path:\n",
    "    s_eod = pd.read_csv(file, index_col=0)\n",
    "    if s_eod.shape[0] < 1244:\n",
    "        row = np.full((1244 - s_eod.shape[0], 9), -1234)\n",
    "        index = range(s_eod.shape[0], 1244)\n",
    "        pd_1234 = pd.DataFrame(row, index=index, columns=col)\n",
    "        full_eod = pd.concat([s_eod, pd_1234])\n",
    "#         full_eod.to_csv(file)\n",
    "        print(file)"
   ]
  },
  {
   "cell_type": "code",
   "execution_count": 64,
   "id": "8b023641",
   "metadata": {},
   "outputs": [],
   "source": [
    "full_eod.to_csv(r'D:\\data\\qt\\data\\test.csv')"
   ]
  },
  {
   "cell_type": "code",
   "execution_count": 54,
   "id": "18d2d853",
   "metadata": {
    "scrolled": true
   },
   "outputs": [],
   "source": [
    "col = ['rr', 'rr5', 'rr10', 'rr20', 'rr30', 'volumn', 'rr-1', 'rr-5', 'rr-30']\n",
    "row = np.full((3, 9), -1234)\n",
    "index = range(row.shape[0])\n",
    "test1234 = pd.DataFrame(row, index=index, columns=col)"
   ]
  },
  {
   "cell_type": "code",
   "execution_count": 56,
   "id": "9469a2ce",
   "metadata": {},
   "outputs": [
    {
     "data": {
      "text/html": [
       "<div>\n",
       "<style scoped>\n",
       "    .dataframe tbody tr th:only-of-type {\n",
       "        vertical-align: middle;\n",
       "    }\n",
       "\n",
       "    .dataframe tbody tr th {\n",
       "        vertical-align: top;\n",
       "    }\n",
       "\n",
       "    .dataframe thead th {\n",
       "        text-align: right;\n",
       "    }\n",
       "</style>\n",
       "<table border=\"1\" class=\"dataframe\">\n",
       "  <thead>\n",
       "    <tr style=\"text-align: right;\">\n",
       "      <th></th>\n",
       "      <th>rr</th>\n",
       "      <th>rr5</th>\n",
       "      <th>rr10</th>\n",
       "      <th>rr20</th>\n",
       "      <th>rr30</th>\n",
       "      <th>rr-1</th>\n",
       "      <th>rr-5</th>\n",
       "      <th>rr-30</th>\n",
       "      <th>volumn</th>\n",
       "    </tr>\n",
       "  </thead>\n",
       "  <tbody>\n",
       "    <tr>\n",
       "      <th>0</th>\n",
       "      <td>0.063820</td>\n",
       "      <td>0.475439</td>\n",
       "      <td>0.035763</td>\n",
       "      <td>0.251659</td>\n",
       "      <td>0.909119</td>\n",
       "      <td>0.258068</td>\n",
       "      <td>0.125009</td>\n",
       "      <td>0.683598</td>\n",
       "      <td>0.090168</td>\n",
       "    </tr>\n",
       "    <tr>\n",
       "      <th>1</th>\n",
       "      <td>-0.205130</td>\n",
       "      <td>-0.096147</td>\n",
       "      <td>-0.003546</td>\n",
       "      <td>-0.202634</td>\n",
       "      <td>1.838118</td>\n",
       "      <td>0.339124</td>\n",
       "      <td>-0.134784</td>\n",
       "      <td>1.099996</td>\n",
       "      <td>0.065511</td>\n",
       "    </tr>\n",
       "    <tr>\n",
       "      <th>2</th>\n",
       "      <td>-0.253243</td>\n",
       "      <td>-0.461994</td>\n",
       "      <td>-0.195607</td>\n",
       "      <td>-0.393391</td>\n",
       "      <td>0.668658</td>\n",
       "      <td>1.538803</td>\n",
       "      <td>-0.281499</td>\n",
       "      <td>-0.179348</td>\n",
       "      <td>0.021441</td>\n",
       "    </tr>\n",
       "    <tr>\n",
       "      <th>3</th>\n",
       "      <td>-0.606114</td>\n",
       "      <td>-0.783652</td>\n",
       "      <td>-0.620508</td>\n",
       "      <td>-0.892215</td>\n",
       "      <td>-0.453262</td>\n",
       "      <td>-0.773380</td>\n",
       "      <td>-0.679557</td>\n",
       "      <td>-0.544374</td>\n",
       "      <td>0.119177</td>\n",
       "    </tr>\n",
       "    <tr>\n",
       "      <th>4</th>\n",
       "      <td>3.412679</td>\n",
       "      <td>0.097531</td>\n",
       "      <td>0.428424</td>\n",
       "      <td>0.355220</td>\n",
       "      <td>1.339971</td>\n",
       "      <td>0.160659</td>\n",
       "      <td>0.149851</td>\n",
       "      <td>0.571952</td>\n",
       "      <td>0.101684</td>\n",
       "    </tr>\n",
       "    <tr>\n",
       "      <th>...</th>\n",
       "      <td>...</td>\n",
       "      <td>...</td>\n",
       "      <td>...</td>\n",
       "      <td>...</td>\n",
       "      <td>...</td>\n",
       "      <td>...</td>\n",
       "      <td>...</td>\n",
       "      <td>...</td>\n",
       "      <td>...</td>\n",
       "    </tr>\n",
       "    <tr>\n",
       "      <th>1242</th>\n",
       "      <td>0.240959</td>\n",
       "      <td>-0.151299</td>\n",
       "      <td>0.070288</td>\n",
       "      <td>-0.375729</td>\n",
       "      <td>-0.577115</td>\n",
       "      <td>-0.083889</td>\n",
       "      <td>-0.539583</td>\n",
       "      <td>-0.357674</td>\n",
       "      <td>0.011242</td>\n",
       "    </tr>\n",
       "    <tr>\n",
       "      <th>1243</th>\n",
       "      <td>0.091571</td>\n",
       "      <td>0.162953</td>\n",
       "      <td>0.208299</td>\n",
       "      <td>-0.311513</td>\n",
       "      <td>-0.566688</td>\n",
       "      <td>-0.347080</td>\n",
       "      <td>-0.505967</td>\n",
       "      <td>-0.292521</td>\n",
       "      <td>0.021044</td>\n",
       "    </tr>\n",
       "    <tr>\n",
       "      <th>0</th>\n",
       "      <td>-1234.000000</td>\n",
       "      <td>-1234.000000</td>\n",
       "      <td>-1234.000000</td>\n",
       "      <td>-1234.000000</td>\n",
       "      <td>-1234.000000</td>\n",
       "      <td>-1234.000000</td>\n",
       "      <td>-1234.000000</td>\n",
       "      <td>-1234.000000</td>\n",
       "      <td>-1234.000000</td>\n",
       "    </tr>\n",
       "    <tr>\n",
       "      <th>1</th>\n",
       "      <td>-1234.000000</td>\n",
       "      <td>-1234.000000</td>\n",
       "      <td>-1234.000000</td>\n",
       "      <td>-1234.000000</td>\n",
       "      <td>-1234.000000</td>\n",
       "      <td>-1234.000000</td>\n",
       "      <td>-1234.000000</td>\n",
       "      <td>-1234.000000</td>\n",
       "      <td>-1234.000000</td>\n",
       "    </tr>\n",
       "    <tr>\n",
       "      <th>2</th>\n",
       "      <td>-1234.000000</td>\n",
       "      <td>-1234.000000</td>\n",
       "      <td>-1234.000000</td>\n",
       "      <td>-1234.000000</td>\n",
       "      <td>-1234.000000</td>\n",
       "      <td>-1234.000000</td>\n",
       "      <td>-1234.000000</td>\n",
       "      <td>-1234.000000</td>\n",
       "      <td>-1234.000000</td>\n",
       "    </tr>\n",
       "  </tbody>\n",
       "</table>\n",
       "<p>1247 rows × 9 columns</p>\n",
       "</div>"
      ],
      "text/plain": [
       "               rr          rr5         rr10         rr20         rr30  \\\n",
       "0        0.063820     0.475439     0.035763     0.251659     0.909119   \n",
       "1       -0.205130    -0.096147    -0.003546    -0.202634     1.838118   \n",
       "2       -0.253243    -0.461994    -0.195607    -0.393391     0.668658   \n",
       "3       -0.606114    -0.783652    -0.620508    -0.892215    -0.453262   \n",
       "4        3.412679     0.097531     0.428424     0.355220     1.339971   \n",
       "...           ...          ...          ...          ...          ...   \n",
       "1242     0.240959    -0.151299     0.070288    -0.375729    -0.577115   \n",
       "1243     0.091571     0.162953     0.208299    -0.311513    -0.566688   \n",
       "0    -1234.000000 -1234.000000 -1234.000000 -1234.000000 -1234.000000   \n",
       "1    -1234.000000 -1234.000000 -1234.000000 -1234.000000 -1234.000000   \n",
       "2    -1234.000000 -1234.000000 -1234.000000 -1234.000000 -1234.000000   \n",
       "\n",
       "             rr-1         rr-5        rr-30       volumn  \n",
       "0        0.258068     0.125009     0.683598     0.090168  \n",
       "1        0.339124    -0.134784     1.099996     0.065511  \n",
       "2        1.538803    -0.281499    -0.179348     0.021441  \n",
       "3       -0.773380    -0.679557    -0.544374     0.119177  \n",
       "4        0.160659     0.149851     0.571952     0.101684  \n",
       "...           ...          ...          ...          ...  \n",
       "1242    -0.083889    -0.539583    -0.357674     0.011242  \n",
       "1243    -0.347080    -0.505967    -0.292521     0.021044  \n",
       "0    -1234.000000 -1234.000000 -1234.000000 -1234.000000  \n",
       "1    -1234.000000 -1234.000000 -1234.000000 -1234.000000  \n",
       "2    -1234.000000 -1234.000000 -1234.000000 -1234.000000  \n",
       "\n",
       "[1247 rows x 9 columns]"
      ]
     },
     "execution_count": 56,
     "metadata": {},
     "output_type": "execute_result"
    }
   ],
   "source": [
    "pd.concat([test, test1234])"
   ]
  },
  {
   "cell_type": "code",
   "execution_count": 3,
   "id": "8de704e9",
   "metadata": {
    "code_folding": [
     0
    ],
    "scrolled": true
   },
   "outputs": [
    {
     "name": "stderr",
     "output_type": "stream",
     "text": [
      "100%|████████████████████████████████████████████████████████████████████████████| 1026/1026 [2:35:35<00:00,  9.10s/it]\n"
     ]
    }
   ],
   "source": [
    "# generate rr data\n",
    "for index, ticker in enumerate(tqdm(tickers)):\n",
    "    single_EOD0 = np.genfromtxt(os.path.join(data_path, market + '_' + ticker + '_30Y.csv'), dtype=str, delimiter=',', skip_header=True)\n",
    "    for day in range(len(single_EOD0)):\n",
    "        day_time = datetime.strptime(single_EOD0[day][0].split(' ')[0] + ' 00:00:00', date_format)\n",
    "        if day_time >= begin_time:\n",
    "            volumn_data = single_EOD0[day:, -1].astype(np.float64)\n",
    "            min_volumn = np.min(volumn_data)\n",
    "            max_volumn = np.max(volumn_data)\n",
    "            break\n",
    "    day_index = 0\n",
    "    single_data = []\n",
    "    for day in range(len(single_EOD0)):\n",
    "        day_time = datetime.strptime(single_EOD0[day][0].split(' ')[0] + ' 00:00:00', date_format)\n",
    "        if day_time >= begin_time and day + 30 < len(single_EOD0):\n",
    "            data_dict = {}\n",
    "            single_EOD = single_EOD0[:, 1:].astype(np.float64)\n",
    "            days_closeP = [single_EOD[day][4], single_EOD[day - 1][4], single_EOD[day - 5][4], \n",
    "                         single_EOD[day - 10][4], single_EOD[day - 20][4], single_EOD[day - 30][4], \n",
    "                         single_EOD[day + 1][4], single_EOD[day + 5][4], single_EOD[day + 30][4], \n",
    "                         single_EOD[day + 1][-1]]\n",
    "            data_dict['rr'] = (days_closeP[0] - days_closeP[1]) / days_closeP[1] if days_closeP[1] != 0 else -1234\n",
    "            data_dict['rr5'] = (days_closeP[0] - days_closeP[2]) / days_closeP[2] if days_closeP[2] != 0 else -1234\n",
    "            data_dict['rr10'] = (days_closeP[0] - days_closeP[3]) / days_closeP[3] if days_closeP[3] != 0 else -1234\n",
    "            data_dict['rr20'] = (days_closeP[0] - days_closeP[4]) / days_closeP[4] if days_closeP[4] != 0 else -1234\n",
    "            data_dict['rr30'] = (days_closeP[0] - days_closeP[5]) / days_closeP[5] if days_closeP[5] != 0 else -1234\n",
    "            data_dict['rr-1'] = (days_closeP[0] - days_closeP[6]) / days_closeP[6] if days_closeP[6] != 0 else -1234\n",
    "            data_dict['rr-5'] = (days_closeP[0] - days_closeP[7]) / days_closeP[7] if days_closeP[7] != 0 else -1234\n",
    "            data_dict['rr-30'] = (days_closeP[0] - days_closeP[8]) / days_closeP[8] if days_closeP[8] != 0 else -1234\n",
    "            data_dict['volumn'] = (days_closeP[9] - min_volumn) / max_volumn if days_closeP[9] != 0 else -1234\n",
    "            single_data.append(data_dict)\n",
    "    single_data = pd.DataFrame(single_data)\n",
    "    single_data.to_csv('D:\\\\data\\\\qt\\\\data\\\\attention_data\\\\'+ market + '_' + ticker + '.csv')"
   ]
  },
  {
   "cell_type": "code",
   "execution_count": 86,
   "id": "6c21bafd",
   "metadata": {},
   "outputs": [
    {
     "data": {
      "text/html": [
       "<div>\n",
       "<style scoped>\n",
       "    .dataframe tbody tr th:only-of-type {\n",
       "        vertical-align: middle;\n",
       "    }\n",
       "\n",
       "    .dataframe tbody tr th {\n",
       "        vertical-align: top;\n",
       "    }\n",
       "\n",
       "    .dataframe thead th {\n",
       "        text-align: right;\n",
       "    }\n",
       "</style>\n",
       "<table border=\"1\" class=\"dataframe\">\n",
       "  <thead>\n",
       "    <tr style=\"text-align: right;\">\n",
       "      <th></th>\n",
       "      <th>rr</th>\n",
       "      <th>rr5</th>\n",
       "      <th>rr10</th>\n",
       "      <th>rr20</th>\n",
       "      <th>rr30</th>\n",
       "      <th>rr-1</th>\n",
       "      <th>rr-5</th>\n",
       "      <th>rr-30</th>\n",
       "      <th>vulumn</th>\n",
       "    </tr>\n",
       "  </thead>\n",
       "  <tbody>\n",
       "    <tr>\n",
       "      <th>0</th>\n",
       "      <td>0.063820</td>\n",
       "      <td>0.475439</td>\n",
       "      <td>0.035763</td>\n",
       "      <td>0.251659</td>\n",
       "      <td>0.909119</td>\n",
       "      <td>0.258068</td>\n",
       "      <td>0.125009</td>\n",
       "      <td>0.683598</td>\n",
       "      <td>0.090168</td>\n",
       "    </tr>\n",
       "    <tr>\n",
       "      <th>1</th>\n",
       "      <td>-0.205130</td>\n",
       "      <td>-0.096147</td>\n",
       "      <td>-0.003546</td>\n",
       "      <td>-0.202634</td>\n",
       "      <td>1.838118</td>\n",
       "      <td>0.339124</td>\n",
       "      <td>-0.134784</td>\n",
       "      <td>1.099996</td>\n",
       "      <td>0.065511</td>\n",
       "    </tr>\n",
       "    <tr>\n",
       "      <th>2</th>\n",
       "      <td>-0.253243</td>\n",
       "      <td>-0.461994</td>\n",
       "      <td>-0.195607</td>\n",
       "      <td>-0.393391</td>\n",
       "      <td>0.668658</td>\n",
       "      <td>1.538803</td>\n",
       "      <td>-0.281499</td>\n",
       "      <td>-0.179348</td>\n",
       "      <td>0.021441</td>\n",
       "    </tr>\n",
       "    <tr>\n",
       "      <th>3</th>\n",
       "      <td>-0.606114</td>\n",
       "      <td>-0.783652</td>\n",
       "      <td>-0.620508</td>\n",
       "      <td>-0.892215</td>\n",
       "      <td>-0.453262</td>\n",
       "      <td>-0.773380</td>\n",
       "      <td>-0.679557</td>\n",
       "      <td>-0.544374</td>\n",
       "      <td>0.119177</td>\n",
       "    </tr>\n",
       "    <tr>\n",
       "      <th>4</th>\n",
       "      <td>3.412679</td>\n",
       "      <td>0.097531</td>\n",
       "      <td>0.428424</td>\n",
       "      <td>0.355220</td>\n",
       "      <td>1.339971</td>\n",
       "      <td>0.160659</td>\n",
       "      <td>0.149851</td>\n",
       "      <td>0.571952</td>\n",
       "      <td>0.101684</td>\n",
       "    </tr>\n",
       "    <tr>\n",
       "      <th>...</th>\n",
       "      <td>...</td>\n",
       "      <td>...</td>\n",
       "      <td>...</td>\n",
       "      <td>...</td>\n",
       "      <td>...</td>\n",
       "      <td>...</td>\n",
       "      <td>...</td>\n",
       "      <td>...</td>\n",
       "      <td>...</td>\n",
       "    </tr>\n",
       "    <tr>\n",
       "      <th>1239</th>\n",
       "      <td>0.673840</td>\n",
       "      <td>1.114630</td>\n",
       "      <td>2.687064</td>\n",
       "      <td>-0.161187</td>\n",
       "      <td>1.167601</td>\n",
       "      <td>0.805815</td>\n",
       "      <td>-0.060251</td>\n",
       "      <td>-0.539743</td>\n",
       "      <td>0.007499</td>\n",
       "    </tr>\n",
       "    <tr>\n",
       "      <th>1240</th>\n",
       "      <td>-0.446233</td>\n",
       "      <td>-0.124708</td>\n",
       "      <td>0.432432</td>\n",
       "      <td>-0.780065</td>\n",
       "      <td>-0.275456</td>\n",
       "      <td>0.079662</td>\n",
       "      <td>-0.490103</td>\n",
       "      <td>-0.669055</td>\n",
       "      <td>0.006415</td>\n",
       "    </tr>\n",
       "    <tr>\n",
       "      <th>1241</th>\n",
       "      <td>-0.073785</td>\n",
       "      <td>-0.140083</td>\n",
       "      <td>-0.355444</td>\n",
       "      <td>-0.448933</td>\n",
       "      <td>-0.450399</td>\n",
       "      <td>-0.194172</td>\n",
       "      <td>-0.656663</td>\n",
       "      <td>-0.685144</td>\n",
       "      <td>0.009695</td>\n",
       "    </tr>\n",
       "    <tr>\n",
       "      <th>1242</th>\n",
       "      <td>0.240959</td>\n",
       "      <td>-0.151299</td>\n",
       "      <td>0.070288</td>\n",
       "      <td>-0.375729</td>\n",
       "      <td>-0.577115</td>\n",
       "      <td>-0.083889</td>\n",
       "      <td>-0.539583</td>\n",
       "      <td>-0.357674</td>\n",
       "      <td>0.011242</td>\n",
       "    </tr>\n",
       "    <tr>\n",
       "      <th>1243</th>\n",
       "      <td>0.091571</td>\n",
       "      <td>0.162953</td>\n",
       "      <td>0.208299</td>\n",
       "      <td>-0.311513</td>\n",
       "      <td>-0.566688</td>\n",
       "      <td>-0.347080</td>\n",
       "      <td>-0.505967</td>\n",
       "      <td>-0.292521</td>\n",
       "      <td>0.021044</td>\n",
       "    </tr>\n",
       "  </tbody>\n",
       "</table>\n",
       "<p>1244 rows × 9 columns</p>\n",
       "</div>"
      ],
      "text/plain": [
       "            rr       rr5      rr10      rr20      rr30      rr-1      rr-5  \\\n",
       "0     0.063820  0.475439  0.035763  0.251659  0.909119  0.258068  0.125009   \n",
       "1    -0.205130 -0.096147 -0.003546 -0.202634  1.838118  0.339124 -0.134784   \n",
       "2    -0.253243 -0.461994 -0.195607 -0.393391  0.668658  1.538803 -0.281499   \n",
       "3    -0.606114 -0.783652 -0.620508 -0.892215 -0.453262 -0.773380 -0.679557   \n",
       "4     3.412679  0.097531  0.428424  0.355220  1.339971  0.160659  0.149851   \n",
       "...        ...       ...       ...       ...       ...       ...       ...   \n",
       "1239  0.673840  1.114630  2.687064 -0.161187  1.167601  0.805815 -0.060251   \n",
       "1240 -0.446233 -0.124708  0.432432 -0.780065 -0.275456  0.079662 -0.490103   \n",
       "1241 -0.073785 -0.140083 -0.355444 -0.448933 -0.450399 -0.194172 -0.656663   \n",
       "1242  0.240959 -0.151299  0.070288 -0.375729 -0.577115 -0.083889 -0.539583   \n",
       "1243  0.091571  0.162953  0.208299 -0.311513 -0.566688 -0.347080 -0.505967   \n",
       "\n",
       "         rr-30    vulumn  \n",
       "0     0.683598  0.090168  \n",
       "1     1.099996  0.065511  \n",
       "2    -0.179348  0.021441  \n",
       "3    -0.544374  0.119177  \n",
       "4     0.571952  0.101684  \n",
       "...        ...       ...  \n",
       "1239 -0.539743  0.007499  \n",
       "1240 -0.669055  0.006415  \n",
       "1241 -0.685144  0.009695  \n",
       "1242 -0.357674  0.011242  \n",
       "1243 -0.292521  0.021044  \n",
       "\n",
       "[1244 rows x 9 columns]"
      ]
     },
     "execution_count": 86,
     "metadata": {},
     "output_type": "execute_result"
    }
   ],
   "source": [
    "single_data"
   ]
  },
  {
   "cell_type": "code",
   "execution_count": 34,
   "id": "6d55b524",
   "metadata": {},
   "outputs": [
    {
     "ename": "TypeError",
     "evalue": "can only concatenate list (not \"str\") to list",
     "output_type": "error",
     "traceback": [
      "\u001B[1;31m---------------------------------------------------------------------------\u001B[0m",
      "\u001B[1;31mTypeError\u001B[0m                                 Traceback (most recent call last)",
      "Input \u001B[1;32mIn [34]\u001B[0m, in \u001B[0;36m<cell line: 1>\u001B[1;34m()\u001B[0m\n\u001B[1;32m----> 1\u001B[0m \u001B[43msingle_EOD\u001B[49m\u001B[43m[\u001B[49m\u001B[38;5;241;43m0\u001B[39;49m\u001B[43m]\u001B[49m\u001B[43m[\u001B[49m\u001B[38;5;241;43m0\u001B[39;49m\u001B[43m]\u001B[49m\u001B[38;5;241;43m.\u001B[39;49m\u001B[43msplit\u001B[49m\u001B[43m(\u001B[49m\u001B[38;5;124;43m'\u001B[39;49m\u001B[38;5;124;43m \u001B[39;49m\u001B[38;5;124;43m'\u001B[39;49m\u001B[43m)\u001B[49m\u001B[43m \u001B[49m\u001B[38;5;241;43m+\u001B[39;49m\u001B[43m \u001B[49m\u001B[38;5;124;43m'\u001B[39;49m\u001B[38;5;124;43m00:00:00\u001B[39;49m\u001B[38;5;124;43m'\u001B[39;49m\n",
      "\u001B[1;31mTypeError\u001B[0m: can only concatenate list (not \"str\") to list"
     ]
    }
   ],
   "source": [
    "single_EOD[0][0].split(' ') + '00:00:00'"
   ]
  },
  {
   "cell_type": "code",
   "execution_count": 38,
   "id": "e8bbfc43",
   "metadata": {},
   "outputs": [
    {
     "data": {
      "text/plain": [
       "datetime.datetime(1996, 4, 12, 0, 0)"
      ]
     },
     "execution_count": 38,
     "metadata": {},
     "output_type": "execute_result"
    }
   ],
   "source": [
    "datetime.strptime(single_EOD[0][0].split(' ')[0] + ' 00:00:00', date_format)"
   ]
  },
  {
   "cell_type": "code",
   "execution_count": 39,
   "id": "fe3a94e1",
   "metadata": {},
   "outputs": [
    {
     "data": {
      "text/plain": [
       "5453"
      ]
     },
     "execution_count": 39,
     "metadata": {},
     "output_type": "execute_result"
    }
   ],
   "source": [
    "len(single_EOD)"
   ]
  },
  {
   "cell_type": "code",
   "execution_count": null,
   "id": "c0c45af8",
   "metadata": {},
   "outputs": [],
   "source": []
  }
 ],
 "metadata": {
  "kernelspec": {
   "display_name": "Python 3 (ipykernel)",
   "language": "python",
   "name": "python3"
  },
  "language_info": {
   "codemirror_mode": {
    "name": "ipython",
    "version": 3
   },
   "file_extension": ".py",
   "mimetype": "text/x-python",
   "name": "python",
   "nbconvert_exporter": "python",
   "pygments_lexer": "ipython3",
   "version": "3.9.12"
  },
  "varInspector": {
   "cols": {
    "lenName": 16,
    "lenType": 16,
    "lenVar": 40
   },
   "kernels_config": {
    "python": {
     "delete_cmd_postfix": "",
     "delete_cmd_prefix": "del ",
     "library": "var_list.py",
     "varRefreshCmd": "print(var_dic_list())"
    },
    "r": {
     "delete_cmd_postfix": ") ",
     "delete_cmd_prefix": "rm(",
     "library": "var_list.r",
     "varRefreshCmd": "cat(var_dic_list()) "
    }
   },
   "types_to_exclude": [
    "module",
    "function",
    "builtin_function_or_method",
    "instance",
    "_Feature"
   ],
   "window_display": false
  }
 },
 "nbformat": 4,
 "nbformat_minor": 5
}
