{
 "cells": [
  {
   "cell_type": "code",
   "execution_count": 1,
   "id": "590323bf",
   "metadata": {
    "ExecuteTime": {
     "end_time": "2022-12-05T03:16:03.641208Z",
     "start_time": "2022-12-05T03:16:03.637274Z"
    }
   },
   "outputs": [],
   "source": [
    "import argparse\n",
    "from datetime import datetime\n",
    "import json\n",
    "import numpy as np\n",
    "import operator\n",
    "import os\n",
    "import pandas as pd\n",
    "from tqdm import tqdm"
   ]
  },
  {
   "cell_type": "code",
   "execution_count": 20,
   "id": "ec75fd15",
   "metadata": {
    "ExecuteTime": {
     "end_time": "2022-12-05T06:12:47.486383Z",
     "start_time": "2022-12-05T06:12:47.478529Z"
    }
   },
   "outputs": [],
   "source": [
    "market = 'NYSE'\n",
    "data_path_eod = '/home/kikyo/data/qt/google_finance/'\n",
    "data_path_attn = '/home/kikyo/data/qt/attention_data_'\n",
    "hpg = np.load('/home/kikyo/code/hidden-conc-hypg/hg_' + market + '.npy')\n",
    "data_path_rr = '/home/kikyo/data/qt/rr8_volumn_' + market[:-1] + '/'\n",
    "date_format = '%Y-%m-%d %H:%M:%S'\n",
    "tickers = '/home/kikyo/data/qt/' + market + '_tickers_qualify_dr-0.98_min-5_smooth.csv'\n",
    "tickers = np.genfromtxt(tickers, dtype=str, delimiter='\\t', skip_header=False)\n",
    "begin_time = datetime.strptime('2012-11-19 00:00:00', date_format)\n",
    "col = ['rr', 'rr5', 'rr10', 'rr20', 'rr30', 'volumn', 'rr-1', 'rr-5', 'rr-30']"
   ]
  },
  {
   "cell_type": "code",
   "execution_count": 17,
   "id": "fe714ae3",
   "metadata": {},
   "outputs": [
    {
     "data": {
      "text/plain": [
       "4066"
      ]
     },
     "execution_count": 17,
     "metadata": {},
     "output_type": "execute_result"
    }
   ],
   "source": [
    "np.max(hpg[1])"
   ]
  },
  {
   "cell_type": "code",
   "execution_count": null,
   "id": "9d33ea54",
   "metadata": {},
   "outputs": [],
   "source": [
    "# generate rr data\n",
    "for index, ticker in enumerate(tqdm(tickers)):\n",
    "    single_EOD0 = np.genfromtxt(os.path.join(data_path_eod, market + ticker + '_30Y.csv'), dtype=str, delimiter=',', skip_header=True)\n",
    "    for day in range(len(single_EOD0)):\n",
    "        day_time = datetime.strptime(single_EOD0[day][0].split(' ')[0] + ' 00:00:00', date_format)\n",
    "        if day_time >= begin_time:\n",
    "            volumn_data = single_EOD0[day:, -1].astype(np.float64)\n",
    "            min_volumn = np.min(volumn_data)\n",
    "            max_volumn = np.max(volumn_data)\n",
    "            break\n",
    "    day_index = 0\n",
    "    single_data = []\n",
    "    for day in range(len(single_EOD0)):\n",
    "        day_time = datetime.strptime(single_EOD0[day][0].split(' ')[0] + ' 00:00:00', date_format)\n",
    "        if day_time >= begin_time and day + 30 < len(single_EOD0):\n",
    "            data_dict = {}\n",
    "            single_EOD = single_EOD0[:, 1:].astype(np.float64)\n",
    "            days_closeP = [single_EOD[day][4], single_EOD[day - 1][4], single_EOD[day - 5][4], \n",
    "                         single_EOD[day - 10][4], single_EOD[day - 20][4], single_EOD[day - 30][4], \n",
    "                         single_EOD[day + 1][4], single_EOD[day + 5][4], single_EOD[day + 30][4], \n",
    "                         single_EOD[day + 1][-1]]\n",
    "            data_dict['rr'] = (days_closeP[0] - days_closeP[1]) / days_closeP[1] if days_closeP[1] != 0 else -1234\n",
    "            data_dict['rr5'] = (days_closeP[0] - days_closeP[2]) / days_closeP[2] if days_closeP[2] != 0 else -1234\n",
    "            data_dict['rr10'] = (days_closeP[0] - days_closeP[3]) / days_closeP[3] if days_closeP[3] != 0 else -1234\n",
    "            data_dict['rr20'] = (days_closeP[0] - days_closeP[4]) / days_closeP[4] if days_closeP[4] != 0 else -1234\n",
    "            data_dict['rr30'] = (days_closeP[0] - days_closeP[5]) / days_closeP[5] if days_closeP[5] != 0 else -1234\n",
    "            data_dict['rr-1'] = (days_closeP[0] - days_closeP[6]) / days_closeP[6] if days_closeP[6] != 0 else -1234\n",
    "            data_dict['rr-5'] = (days_closeP[0] - days_closeP[7]) / days_closeP[7] if days_closeP[7] != 0 else -1234\n",
    "            data_dict['rr-30'] = (days_closeP[0] - days_closeP[8]) / days_closeP[8] if days_closeP[8] != 0 else -1234\n",
    "            data_dict['volumn'] = (days_closeP[9] - min_volumn) / max_volumn if days_closeP[9] != 0 else -1234\n",
    "            single_data.append(data_dict)\n",
    "    single_data = pd.DataFrame(single_data)\n",
    "    single_data.to_csv(data_path_rr + market + ticker + '.csv')"
   ]
  },
  {
   "cell_type": "code",
   "execution_count": null,
   "id": "22b25908",
   "metadata": {
    "ExecuteTime": {
     "end_time": "2022-12-05T06:12:27.681797Z",
     "start_time": "2022-12-05T04:50:14.695721Z"
    }
   },
   "outputs": [
    {
     "name": "stderr",
     "output_type": "stream",
     "text": [
      "  2%|▏         | 35/1737 [04:35<4:51:32, 10.28s/it]"
     ]
    }
   ],
   "source": [
    "for index, ticker in enumerate(tqdm(tickers)):\n",
    "    single_EOD0 = np.genfromtxt(os.path.join(data_path_eod, market + '_' + ticker + '_30Y.csv'), dtype=str, delimiter=',', skip_header=True)\n",
    "    single_data = []\n",
    "    for day in range(len(single_EOD0)):\n",
    "        day_time = datetime.strptime(single_EOD0[day][0].split(' ')[0] + ' 00:00:00', date_format)\n",
    "        if day_time >= begin_time and day + 30 < len(single_EOD0):\n",
    "            data_dict = {}\n",
    "            single_EOD = single_EOD0[:, 1:].astype(np.float64)\n",
    "            days_weight = single_EOD[day][0] * single_EOD[day][4]\n",
    "            data_dict['hyper_weight'] = days_weight if days_weight != 0 else -1234\n",
    "            single_data.append(data_dict)\n",
    "    single_data = pd.DataFrame(single_data)\n",
    "    if len(single_data) < 1244:\n",
    "        row = np.full((1244 - single_data.shape[0], 1), -1234)\n",
    "        index = range(single_data.shape[0], 1244)\n",
    "        pd_1234 = pd.DataFrame(row, index=index, columns=['hyper_weight'])\n",
    "        single_data = pd.concat([single_data, pd_1234])\n",
    "    elif len(single_data) > 1244:\n",
    "        single_data = single_data.drop(index=range(1244, single_data.shape[0]))\n",
    "    single_data.to_csv(data_path_attn + market + '/' + ticker + '.csv')"
   ]
  },
  {
   "cell_type": "code",
   "execution_count": null,
   "id": "dd554270",
   "metadata": {},
   "outputs": [],
   "source": [
    "attention_weight = np.zeros((1244, hpg.shape[1]))\n",
    "for row in tqdm(range(attention_weight.shape[0])):\n",
    "    for i in range(np.max(hpg[1])):\n",
    "        hyper_index = np.where(hpg[1] == i)\n",
    "        tickers_rel = tickers[hpg[0][hyper_index]]\n",
    "        weight_list = []\n",
    "        for ticker in tickers_rel:\n",
    "            data_weight_path = pd.read_csv(data_path_rr + market + '/' + ticker + '.csv', index_col=0)\n",
    "            amount = data_weight_path['hyper_weight'][row]\n",
    "            weight_list.append(amount) if amount > -1000 else weight_list.append(0)\n",
    "        hyper_attn = np.array(weight_list) / sum(weight_list) if sum(weight_list) > 1 else np.array(weight_list)\n",
    "        attention_weight[row, hyper_index[0][0]:hyper_index[0][0] + len(hyper_index[0])] = hyper_attn\n",
    "np.save('/home/kikyo/data/qt/PreConceptWeight_' + market + '.npy', attention_weight)"
   ]
  },
  {
   "cell_type": "code",
   "execution_count": 39,
   "id": "fe3a94e1",
   "metadata": {},
   "outputs": [
    {
     "data": {
      "text/plain": [
       "5453"
      ]
     },
     "execution_count": 39,
     "metadata": {},
     "output_type": "execute_result"
    }
   ],
   "source": [
    "len(single_EOD)"
   ]
  },
  {
   "cell_type": "code",
   "execution_count": null,
   "id": "c0c45af8",
   "metadata": {},
   "outputs": [],
   "source": []
  }
 ],
 "metadata": {
  "kernelspec": {
   "display_name": "Python 3 (ipykernel)",
   "language": "python",
   "name": "python3"
  },
  "language_info": {
   "codemirror_mode": {
    "name": "ipython",
    "version": 3
   },
   "file_extension": ".py",
   "mimetype": "text/x-python",
   "name": "python",
   "nbconvert_exporter": "python",
   "pygments_lexer": "ipython3",
   "version": "3.9.13"
  },
  "varInspector": {
   "cols": {
    "lenName": 16,
    "lenType": 16,
    "lenVar": 40
   },
   "kernels_config": {
    "python": {
     "delete_cmd_postfix": "",
     "delete_cmd_prefix": "del ",
     "library": "var_list.py",
     "varRefreshCmd": "print(var_dic_list())"
    },
    "r": {
     "delete_cmd_postfix": ") ",
     "delete_cmd_prefix": "rm(",
     "library": "var_list.r",
     "varRefreshCmd": "cat(var_dic_list()) "
    }
   },
   "types_to_exclude": [
    "module",
    "function",
    "builtin_function_or_method",
    "instance",
    "_Feature"
   ],
   "window_display": false
  }
 },
 "nbformat": 4,
 "nbformat_minor": 5
}
