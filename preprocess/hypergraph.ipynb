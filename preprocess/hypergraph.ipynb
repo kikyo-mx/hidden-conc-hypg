{
 "cells": [
  {
   "cell_type": "code",
   "execution_count": 1,
   "id": "933356a9",
   "metadata": {
    "ExecuteTime": {
     "end_time": "2022-12-26T05:56:12.901401Z",
     "start_time": "2022-12-26T05:56:11.857319Z"
    }
   },
   "outputs": [],
   "source": [
    "from torch_geometric import nn\n",
    "from torch_geometric import utils\n",
    "from torch.utils.data import Dataset, DataLoader\n",
    "import torch\n",
    "import torch.nn.functional as F\n",
    "import torch.nn\n",
    "import torch.optim as optim\n",
    "import numpy as np\n",
    "import os\n",
    "import time\n",
    "from tqdm import tqdm\n",
    "from scipy.sparse import coo_matrix\n",
    "# from tqdm.notebook import tqdm\n",
    "\n",
    "# from models.encoder import Encoder, EncoderLayer, ConvLayer, EncoderStack\n",
    "# from models.attn import FullAttention, ProbAttention, AttentionLayer\n",
    "\n",
    "seed = 123456789\n",
    "np.random.seed(seed)\n",
    "\n",
    "torch.cuda.manual_seed(seed)\n",
    "torch.cuda.manual_seed_all(seed)"
   ]
  },
  {
   "cell_type": "code",
   "execution_count": 9,
   "id": "8f5dcd37",
   "metadata": {
    "ExecuteTime": {
     "end_time": "2022-12-02T05:33:12.697906Z",
     "start_time": "2022-12-02T05:33:12.693998Z"
    }
   },
   "outputs": [
    {
     "name": "stdout",
     "output_type": "stream",
     "text": [
      "torch.Size([100])\n"
     ]
    }
   ],
   "source": [
    "input1 = torch.randn(100, 128)\n",
    "input2 = torch.randn(100, 128)\n",
    "output = F.cosine_similarity(input1, input2, dim=1)\n",
    "print(output.shape)"
   ]
  },
  {
   "cell_type": "code",
   "execution_count": 13,
   "id": "3ad8f91a",
   "metadata": {
    "ExecuteTime": {
     "end_time": "2022-12-01T05:17:00.231100Z",
     "start_time": "2022-12-01T05:16:59.893976Z"
    }
   },
   "outputs": [
    {
     "ename": "FileNotFoundError",
     "evalue": "[Errno 2] No such file or directory: 'hg_test.npy'",
     "output_type": "error",
     "traceback": [
      "\u001B[1;31m---------------------------------------------------------------------------\u001B[0m",
      "\u001B[1;31mFileNotFoundError\u001B[0m                         Traceback (most recent call last)",
      "Input \u001B[1;32mIn [13]\u001B[0m, in \u001B[0;36m<cell line: 11>\u001B[1;34m()\u001B[0m\n\u001B[0;32m      8\u001B[0m tickers \u001B[38;5;241m=\u001B[39m market_name \u001B[38;5;241m+\u001B[39m \u001B[38;5;124m'\u001B[39m\u001B[38;5;124m_tickers_qualify_dr-0.98_min-5_smooth.csv\u001B[39m\u001B[38;5;124m'\u001B[39m\n\u001B[0;32m      9\u001B[0m tickers \u001B[38;5;241m=\u001B[39m np\u001B[38;5;241m.\u001B[39mgenfromtxt(os\u001B[38;5;241m.\u001B[39mpath\u001B[38;5;241m.\u001B[39mjoin(data_path, \u001B[38;5;124m'\u001B[39m\u001B[38;5;124m..\u001B[39m\u001B[38;5;124m'\u001B[39m, tickers),\n\u001B[0;32m     10\u001B[0m                                      dtype\u001B[38;5;241m=\u001B[39m\u001B[38;5;28mstr\u001B[39m, delimiter\u001B[38;5;241m=\u001B[39m\u001B[38;5;124m'\u001B[39m\u001B[38;5;130;01m\\t\u001B[39;00m\u001B[38;5;124m'\u001B[39m, skip_header\u001B[38;5;241m=\u001B[39m\u001B[38;5;28;01mFalse\u001B[39;00m)\n\u001B[1;32m---> 11\u001B[0m inci_mat \u001B[38;5;241m=\u001B[39m \u001B[43mnp\u001B[49m\u001B[38;5;241;43m.\u001B[39;49m\u001B[43mload\u001B[49m\u001B[43m(\u001B[49m\u001B[38;5;124;43m'\u001B[39;49m\u001B[38;5;124;43mhg_test.npy\u001B[39;49m\u001B[38;5;124;43m'\u001B[39;49m\u001B[43m)\u001B[49m\n\u001B[0;32m     12\u001B[0m hyp_input \u001B[38;5;241m=\u001B[39m torch\u001B[38;5;241m.\u001B[39mfrom_numpy(inci_mat)\u001B[38;5;241m.\u001B[39mto(device)\n",
      "File \u001B[1;32mC:\\ProgramData\\Anaconda3\\lib\\site-packages\\numpy\\lib\\npyio.py:390\u001B[0m, in \u001B[0;36mload\u001B[1;34m(file, mmap_mode, allow_pickle, fix_imports, encoding)\u001B[0m\n\u001B[0;32m    388\u001B[0m     own_fid \u001B[38;5;241m=\u001B[39m \u001B[38;5;28;01mFalse\u001B[39;00m\n\u001B[0;32m    389\u001B[0m \u001B[38;5;28;01melse\u001B[39;00m:\n\u001B[1;32m--> 390\u001B[0m     fid \u001B[38;5;241m=\u001B[39m stack\u001B[38;5;241m.\u001B[39menter_context(\u001B[38;5;28;43mopen\u001B[39;49m\u001B[43m(\u001B[49m\u001B[43mos_fspath\u001B[49m\u001B[43m(\u001B[49m\u001B[43mfile\u001B[49m\u001B[43m)\u001B[49m\u001B[43m,\u001B[49m\u001B[43m \u001B[49m\u001B[38;5;124;43m\"\u001B[39;49m\u001B[38;5;124;43mrb\u001B[39;49m\u001B[38;5;124;43m\"\u001B[39;49m\u001B[43m)\u001B[49m)\n\u001B[0;32m    391\u001B[0m     own_fid \u001B[38;5;241m=\u001B[39m \u001B[38;5;28;01mTrue\u001B[39;00m\n\u001B[0;32m    393\u001B[0m \u001B[38;5;66;03m# Code to distinguish from NumPy binary files and pickles.\u001B[39;00m\n",
      "\u001B[1;31mFileNotFoundError\u001B[0m: [Errno 2] No such file or directory: 'hg_test.npy'"
     ]
    }
   ],
   "source": [
    "device = 'cuda'\n",
    "market_name = 'NASDAQ'\n",
    "# data_path = 'D:/data/qt/data/2013-01-01'\n",
    "data_path = 'D:/data/qt/data/rr8_volumn'\n",
    "col_train = ['rr', 'rr5', 'rr10', 'rr20', 'rr30', 'volumn']\n",
    "col_label = ['rr-1', 'rr-5', 'rr-30']\n",
    "ecod_in = len(col_train)\n",
    "tickers = market_name + '_tickers_qualify_dr-0.98_min-5_smooth.csv'\n",
    "tickers = np.genfromtxt(os.path.join(data_path, '..', tickers),\n",
    "                                     dtype=str, delimiter='\\t', skip_header=False)\n",
    "inci_mat = np.load('hg_test.npy')\n",
    "hyp_input = torch.from_numpy(inci_mat).to(device)"
   ]
  },
  {
   "cell_type": "code",
   "execution_count": 11,
   "id": "79534926",
   "metadata": {},
   "outputs": [
    {
     "data": {
      "text/plain": [
       "tensor([[ 1.0000, -0.0212],\n",
       "        [-0.0212,  1.0000]], dtype=torch.float64)"
      ]
     },
     "execution_count": 11,
     "metadata": {},
     "output_type": "execute_result"
    }
   ],
   "source": [
    "# generate random array and tensor equivalent\n",
    "x = torch.from_numpy(np.random.rand(1025, 3))\n",
    "y = torch.from_numpy(np.random.rand(1025, 3))\n",
    "\n",
    "# compute corrcoef using those functions\n",
    "z = torch.corrcoef(torch.cat([x[:, 1].unsqueeze(0), y[:, 1].unsqueeze(0)]))\n",
    "\n",
    "z"
   ]
  },
  {
   "cell_type": "code",
   "execution_count": 8,
   "id": "b923989c",
   "metadata": {},
   "outputs": [
    {
     "data": {
      "text/plain": [
       "torch.Size([2, 1025, 3])"
      ]
     },
     "execution_count": 8,
     "metadata": {},
     "output_type": "execute_result"
    }
   ],
   "source": [
    "torch.cat([x.unsqueeze(0), y.unsqueeze(0)]).shape"
   ]
  },
  {
   "cell_type": "code",
   "execution_count": 9,
   "id": "3a95f960",
   "metadata": {},
   "outputs": [],
   "source": [
    "np_test = np.load('./training/hg_test.npy')"
   ]
  },
  {
   "cell_type": "code",
   "execution_count": 11,
   "id": "cd49e4a7",
   "metadata": {},
   "outputs": [
    {
     "data": {
      "text/plain": [
       "2518"
      ]
     },
     "execution_count": 11,
     "metadata": {},
     "output_type": "execute_result"
    }
   ],
   "source": [
    "np_test[1].max().item() + 1"
   ]
  },
  {
   "cell_type": "code",
   "execution_count": 9,
   "id": "38526994",
   "metadata": {},
   "outputs": [],
   "source": [
    "industry = r\"C:\\Users\\kikyo\\code\\qt\\sthan-sr-aaai-main\\training\\NASDAQ_industry_relation.npy\"\n",
    "wiki = '/home/kikyo/data/qt/relation/wikidata/NASDAQ_wiki_relation_fill.npy'\n",
    "npy = np.load(wiki)"
   ]
  },
  {
   "cell_type": "code",
   "execution_count": 10,
   "id": "3cdd1277",
   "metadata": {},
   "outputs": [
    {
     "data": {
      "text/plain": [
       "(1026, 1026, 43)"
      ]
     },
     "execution_count": 10,
     "metadata": {},
     "output_type": "execute_result"
    }
   ],
   "source": [
    "npy.shape"
   ]
  },
  {
   "cell_type": "code",
   "execution_count": 11,
   "id": "c3536f9e",
   "metadata": {
    "scrolled": true
   },
   "outputs": [
    {
     "name": "stderr",
     "output_type": "stream",
     "text": [
      "100%|██████████| 43/43 [00:01<00:00, 25.84it/s]\n"
     ]
    }
   ],
   "source": [
    "row = []\n",
    "col = []\n",
    "edge = -1\n",
    "for i in tqdm(range(43)):         \n",
    "    local = utils.from_scipy_sparse_matrix(coo_matrix(npy[:, :, i]))\n",
    "    node0 = 0\n",
    "    for j in range(len(local[0][0])):\n",
    "        if local[0][0][j] != node0:\n",
    "            node0 = local[0][0][j]\n",
    "            row.append(node0)\n",
    "            edge += 1\n",
    "        else:\n",
    "            row.append(local[0][1][j])\n",
    "        col.append(edge)\n",
    "hg = np.array([np.array(row), col])\n",
    "np.save('/home/kikyo/code/hidden-conc-hypg/hg_test.npy', hg)"
   ]
  },
  {
   "cell_type": "code",
   "execution_count": 8,
   "id": "a9e4b369",
   "metadata": {},
   "outputs": [
    {
     "data": {
      "text/plain": [
       "(401304,)"
      ]
     },
     "execution_count": 8,
     "metadata": {},
     "output_type": "execute_result"
    }
   ],
   "source": [
    "hg[1].shape"
   ]
  },
  {
   "cell_type": "code",
   "execution_count": 74,
   "id": "a4ef109b",
   "metadata": {},
   "outputs": [
    {
     "data": {
      "text/plain": [
       "(159188,)"
      ]
     },
     "execution_count": 74,
     "metadata": {},
     "output_type": "execute_result"
    }
   ],
   "source": [
    "np.array(row).shape"
   ]
  },
  {
   "cell_type": "code",
   "execution_count": 3,
   "id": "5ed2b953",
   "metadata": {},
   "outputs": [
    {
     "name": "stdout",
     "output_type": "stream",
     "text": [
      "  (0, 1)\t1\n",
      "  (0, 2)\t1\n",
      "  (0, 3)\t2\n",
      "  (0, 4)\t2\n",
      "  (0, 5)\t3\n",
      "  (1, 0)\t1\n",
      "  (1, 2)\t2\n",
      "  (1, 3)\t1\n",
      "  (1, 4)\t3\n",
      "  (1, 5)\t2\n"
     ]
    }
   ],
   "source": [
    "edge_index = torch.tensor([\n",
    "    [0, 1, 1, 2, 2, 3],\n",
    "    [1, 0, 2, 1, 3, 2],\n",
    "])\n",
    "# print(utils.to_scipy_sparse_matrix(edge_index))\n",
    "print(coo_matrix(edge_index))"
   ]
  },
  {
   "cell_type": "code",
   "execution_count": 37,
   "id": "25e0cf8a",
   "metadata": {},
   "outputs": [
    {
     "data": {
      "text/plain": [
       "(tensor([[0, 0, 1, 2, 2],\n",
       "         [1, 2, 2, 0, 1]]),\n",
       " tensor([1, 1, 1, 1, 1], dtype=torch.int32))"
      ]
     },
     "execution_count": 37,
     "metadata": {},
     "output_type": "execute_result"
    }
   ],
   "source": [
    "test = np.array([[0, 1, 1],[0, 0, 1], [1, 1 ,0]])\n",
    "utils.from_scipy_sparse_matrix(coo_matrix(test))"
   ]
  },
  {
   "cell_type": "code",
   "execution_count": null,
   "id": "ccc07d7e",
   "metadata": {},
   "outputs": [],
   "source": []
  }
 ],
 "metadata": {
  "kernelspec": {
   "display_name": "Python 3 (ipykernel)",
   "language": "python",
   "name": "python3"
  },
  "language_info": {
   "codemirror_mode": {
    "name": "ipython",
    "version": 3
   },
   "file_extension": ".py",
   "mimetype": "text/x-python",
   "name": "python",
   "nbconvert_exporter": "python",
   "pygments_lexer": "ipython3",
   "version": "3.9.13"
  },
  "varInspector": {
   "cols": {
    "lenName": 16,
    "lenType": 16,
    "lenVar": 40
   },
   "kernels_config": {
    "python": {
     "delete_cmd_postfix": "",
     "delete_cmd_prefix": "del ",
     "library": "var_list.py",
     "varRefreshCmd": "print(var_dic_list())"
    },
    "r": {
     "delete_cmd_postfix": ") ",
     "delete_cmd_prefix": "rm(",
     "library": "var_list.r",
     "varRefreshCmd": "cat(var_dic_list()) "
    }
   },
   "types_to_exclude": [
    "module",
    "function",
    "builtin_function_or_method",
    "instance",
    "_Feature"
   ],
   "window_display": false
  }
 },
 "nbformat": 4,
 "nbformat_minor": 5
}
