{
 "cells": [
  {
   "cell_type": "code",
   "execution_count": 2,
   "id": "ae7fee6e",
   "metadata": {},
   "outputs": [],
   "source": [
    "import numpy as np\n",
    "import os"
   ]
  },
  {
   "cell_type": "code",
   "execution_count": 6,
   "id": "f0d07fca",
   "metadata": {},
   "outputs": [],
   "source": [
    "market = 'NASDAQ'\n",
    "data_path_eod = '/home/kikyo/data/qt/google_finance/'\n",
    "data_path_attn = '/home/kikyo/data/qt/attention_data_' + market + '/'\n",
    "data_path_rr = '/home/kikyo/data/qt/rr8_volumn_' + market + '/'\n",
    "tickers = '/home/kikyo/data/qt/' + market + '_tickers_qualify_dr-0.98_min-5_smooth.csv'\n",
    "tickers = np.genfromtxt(tickers, dtype=str, delimiter='\\t', skip_header=True)"
   ]
  },
  {
   "cell_type": "code",
   "execution_count": 38,
   "id": "f6f1cd80",
   "metadata": {},
   "outputs": [],
   "source": [
    "for ticker in tickers:\n",
    "    single_EOD = np.genfromtxt(os.path.join(data_path_rr, market + '_' + ticker + '.csv'), dtype=float,\n",
    "                                delimiter=',', skip_header=True)[:, 1:]\n",
    "    single_EOD = single_EOD - single_EOD.mean(0) / single_EOD.std(0)\n",
    "    break"
   ]
  },
  {
   "cell_type": "code",
   "execution_count": 42,
   "id": "81eb96e2",
   "metadata": {},
   "outputs": [
    {
     "data": {
      "text/plain": [
       "926346.3050666376"
      ]
     },
     "execution_count": 42,
     "metadata": {},
     "output_type": "execute_result"
    }
   ],
   "source": [
    "single_EOD.max()"
   ]
  },
  {
   "cell_type": "code",
   "execution_count": 37,
   "id": "fe3a0fa0",
   "metadata": {},
   "outputs": [
    {
     "data": {
      "text/plain": [
       "array([1.30874393e-03, 6.51543683e-03, 1.27481539e-02, 2.50013656e-02,\n",
       "       3.78365000e-02, 1.29193196e-03, 6.26439033e-03, 3.72467650e-02,\n",
       "       1.49082643e-01, 1.59955668e+05])"
      ]
     },
     "execution_count": 37,
     "metadata": {},
     "output_type": "execute_result"
    }
   ],
   "source": [
    "single_EOD.mean(0)"
   ]
  },
  {
   "cell_type": "code",
   "execution_count": null,
   "id": "52a841fa",
   "metadata": {},
   "outputs": [],
   "source": []
  }
 ],
 "metadata": {
  "kernelspec": {
   "display_name": "Python 3 (ipykernel)",
   "language": "python",
   "name": "python3"
  },
  "language_info": {
   "codemirror_mode": {
    "name": "ipython",
    "version": 3
   },
   "file_extension": ".py",
   "mimetype": "text/x-python",
   "name": "python",
   "nbconvert_exporter": "python",
   "pygments_lexer": "ipython3",
   "version": "3.9.13"
  }
 },
 "nbformat": 4,
 "nbformat_minor": 5
}
